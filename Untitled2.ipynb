{
 "cells": [
  {
   "cell_type": "code",
   "execution_count": 5,
   "metadata": {},
   "outputs": [
    {
     "data": {
      "text/plain": [
       "(DesignMatrix with shape (150, 4)\n",
       "   Intercept        x1        x2    x1:x2\n",
       "           1   0.38740   0.38740  0.15008\n",
       "           1  -0.74498  -0.74498  0.55500\n",
       "           1  -1.31384  -1.31384  1.72617\n",
       "           1   0.23907   0.23907  0.05716\n",
       "           1  -0.06138  -0.06138  0.00377\n",
       "           1  -0.43877  -0.43877  0.19252\n",
       "           1  -0.98922  -0.98922  0.97855\n",
       "           1  -1.59963  -1.59963  2.55882\n",
       "           1   0.29159   0.29159  0.08503\n",
       "           1   2.75160   2.75160  7.57131\n",
       "           1  -0.63216  -0.63216  0.39963\n",
       "           1  -0.62437  -0.62437  0.38983\n",
       "           1   1.27150   1.27150  1.61671\n",
       "           1   0.00690   0.00690  0.00005\n",
       "           1  -0.33431  -0.33431  0.11177\n",
       "           1  -0.55321  -0.55321  0.30604\n",
       "           1   0.23620   0.23620  0.05579\n",
       "           1  -0.38722  -0.38722  0.14994\n",
       "           1  -1.27511  -1.27511  1.62590\n",
       "           1   1.05002   1.05002  1.10253\n",
       "           1  -1.25339  -1.25339  1.57100\n",
       "           1  -0.09391  -0.09391  0.00882\n",
       "           1  -0.26611  -0.26611  0.07081\n",
       "           1   1.76219   1.76219  3.10530\n",
       "           1  -1.19071  -1.19071  1.41779\n",
       "           1  -1.38686  -1.38686  1.92337\n",
       "           1  -1.23266  -1.23266  1.51944\n",
       "           1   0.13233   0.13233  0.01751\n",
       "           1  -0.03278  -0.03278  0.00107\n",
       "           1   0.31652   0.31652  0.10018\n",
       "   [120 rows omitted]\n",
       "   Terms:\n",
       "     'Intercept' (column 0)\n",
       "     'x1' (column 1)\n",
       "     'x2' (column 2)\n",
       "     'x1:x2' (column 3)\n",
       "   (to view full data, use np.asarray(this_obj)),\n",
       " DesignMatrix with shape (150, 1)\n",
       "          y\n",
       "    3.53733\n",
       "   -0.50492\n",
       "    1.33549\n",
       "    2.42399\n",
       "    0.70818\n",
       "   -0.42378\n",
       "   -0.03188\n",
       "    3.23712\n",
       "    2.79806\n",
       "   45.04323\n",
       "   -0.56229\n",
       "   -0.56250\n",
       "   13.82435\n",
       "    1.03467\n",
       "   -0.22451\n",
       "   -0.54188\n",
       "    2.40413\n",
       "   -0.33635\n",
       "    1.12806\n",
       "   10.66020\n",
       "    1.01702\n",
       "    0.56574\n",
       "   -0.04728\n",
       "   22.23215\n",
       "    0.71762\n",
       "    1.75920\n",
       "    0.91448\n",
       "    1.73168\n",
       "    0.84041\n",
       "    2.98332\n",
       "   [120 rows omitted]\n",
       "   Terms:\n",
       "     'y' (column 0)\n",
       "   (to view full data, use np.asarray(this_obj)))"
      ]
     },
     "execution_count": 5,
     "metadata": {},
     "output_type": "execute_result"
    }
   ],
   "source": [
    "import matplotlib.pyplot as plt\n",
    "import numpy as np\n",
    "import pandas as pd\n",
    "import statsmodels.api as sm\n",
    "import statsmodels.formula.api as smf\n",
    "import statsmodels.graphics.api as smg\n",
    "import patsy\n",
    "from scipy import stats\n",
    "import seaborn as sns\n",
    "N = 150\n",
    "x1 = x2 = np.random.randn(N)\n",
    "y = 1 + 2*x1 + 3*x2 + 4*x1*x2\n",
    "X = np.vstack([np.ones(N), x1, x2, x1*x2]).T\n",
    "data = {\"y\": y, \"x1\": x1, \"x2\": x2}\n",
    "y, X = patsy.dmatrices(\"y ~ 1 + x1 + x2 + x1*x2\", data)\n",
    "X,y"
   ]
  },
  {
   "cell_type": "code",
   "execution_count": 6,
   "metadata": {},
   "outputs": [
    {
     "name": "stdout",
     "output_type": "stream",
     "text": [
      "                            OLS Regression Results                            \n",
      "==============================================================================\n",
      "Dep. Variable:                      y   R-squared:                       1.000\n",
      "Model:                            OLS   Adj. R-squared:                  1.000\n",
      "Method:                 Least Squares   F-statistic:                 3.914e+32\n",
      "Date:                Sun, 13 Dec 2020   Prob (F-statistic):               0.00\n",
      "Time:                        15:27:35   Log-Likelihood:                 4810.9\n",
      "No. Observations:                 150   AIC:                            -9616.\n",
      "Df Residuals:                     147   BIC:                            -9607.\n",
      "Df Model:                           2                                         \n",
      "Covariance Type:            nonrobust                                         \n",
      "==============================================================================\n",
      "                 coef    std err          t      P>|t|      [0.025      0.975]\n",
      "------------------------------------------------------------------------------\n",
      "Intercept      1.0000   2.89e-16   3.46e+15      0.000       1.000       1.000\n",
      "x1             2.5000   1.23e-16   2.03e+16      0.000       2.500       2.500\n",
      "x2             2.5000   1.23e-16   2.03e+16      0.000       2.500       2.500\n",
      "x1:x2          4.0000   1.82e-16    2.2e+16      0.000       4.000       4.000\n",
      "==============================================================================\n",
      "Omnibus:                      148.819   Durbin-Watson:                   0.693\n",
      "Prob(Omnibus):                  0.000   Jarque-Bera (JB):             2666.502\n",
      "Skew:                           3.629   Prob(JB):                         0.00\n",
      "Kurtosis:                      22.338   Cond. No.                     4.77e+15\n",
      "==============================================================================\n",
      "\n",
      "Warnings:\n",
      "[1] Standard Errors assume that the covariance matrix of the errors is correctly specified.\n",
      "[2] The smallest eigenvalue is 2.08e-29. This might indicate that there are\n",
      "strong multicollinearity problems or that the design matrix is singular.\n"
     ]
    }
   ],
   "source": [
    "model = sm.OLS(y, X)\n",
    "result = model.fit()\n",
    "print(result.summary())"
   ]
  },
  {
   "cell_type": "code",
   "execution_count": 7,
   "metadata": {},
   "outputs": [
    {
     "data": {
      "text/plain": [
       "array([1. , 2.5, 2.5, 4. ])"
      ]
     },
     "execution_count": 7,
     "metadata": {},
     "output_type": "execute_result"
    }
   ],
   "source": [
    "result.params"
   ]
  },
  {
   "cell_type": "code",
   "execution_count": 8,
   "metadata": {},
   "outputs": [
    {
     "name": "stdout",
     "output_type": "stream",
     "text": [
      "                            OLS Regression Results                            \n",
      "==============================================================================\n",
      "Dep. Variable:                      y   R-squared:                       1.000\n",
      "Model:                            OLS   Adj. R-squared:                  1.000\n",
      "Method:                 Least Squares   F-statistic:                 8.072e+26\n",
      "Date:                Sun, 13 Dec 2020   Prob (F-statistic):           1.24e-27\n",
      "Time:                        15:47:38   Log-Likelihood:                 146.06\n",
      "No. Observations:                   5   AIC:                            -286.1\n",
      "Df Residuals:                       2   BIC:                            -287.3\n",
      "Df Model:                           2                                         \n",
      "Covariance Type:            nonrobust                                         \n",
      "==============================================================================\n",
      "                 coef    std err          t      P>|t|      [0.025      0.975]\n",
      "------------------------------------------------------------------------------\n",
      "Intercept     -0.5556   1.79e-13   -3.1e+12      0.000      -0.556      -0.556\n",
      "x1             1.8889    6.7e-13   2.82e+12      0.000       1.889       1.889\n",
      "x2            -0.8889   2.28e-13   -3.9e+12      0.000      -0.889      -0.889\n",
      "x1:x2      -8.882e-16    2.1e-14     -0.042      0.970   -9.14e-14    8.96e-14\n",
      "==============================================================================\n",
      "Omnibus:                          nan   Durbin-Watson:                   0.002\n",
      "Prob(Omnibus):                    nan   Jarque-Bera (JB):                0.747\n",
      "Skew:                           0.913   Prob(JB):                        0.688\n",
      "Kurtosis:                       2.500   Cond. No.                     6.86e+17\n",
      "==============================================================================\n",
      "\n",
      "Warnings:\n",
      "[1] Standard Errors assume that the covariance matrix of the errors is correctly specified.\n",
      "[2] The smallest eigenvalue is 1.31e-31. This might indicate that there are\n",
      "strong multicollinearity problems or that the design matrix is singular.\n"
     ]
    },
    {
     "name": "stderr",
     "output_type": "stream",
     "text": [
      "c:\\users\\victoria\\appdata\\local\\programs\\python\\python37\\lib\\site-packages\\statsmodels\\stats\\stattools.py:71: ValueWarning: omni_normtest is not valid with less than 8 observations; 5 samples were given.\n",
      "  \"samples were given.\" % int(n), ValueWarning)\n"
     ]
    }
   ],
   "source": [
    "y = np.array([1, 2, 3, 4, 5])\n",
    "x1 = np.array([6, 7, 8, 9, 10])\n",
    "x2 = np.array([11, 12, 13, 14, 15])\n",
    "data = pd.DataFrame({\"y\":y, \"x1\": x1, \"x2\": x2})\n",
    "model = smf.ols(\"y ~ x1 + x2 + x1*x2\", data)\n",
    "result = model.fit()\n",
    "print(result.summary())"
   ]
  },
  {
   "cell_type": "code",
   "execution_count": 9,
   "metadata": {},
   "outputs": [
    {
     "data": {
      "text/plain": [
       "Intercept   -5.555556e-01\n",
       "x1           1.888889e+00\n",
       "x2          -8.888889e-01\n",
       "x1:x2       -8.881784e-16\n",
       "dtype: float64"
      ]
     },
     "execution_count": 9,
     "metadata": {},
     "output_type": "execute_result"
    }
   ],
   "source": [
    "result.params"
   ]
  },
  {
   "cell_type": "code",
   "execution_count": 10,
   "metadata": {},
   "outputs": [
    {
     "name": "stdout",
     "output_type": "stream",
     "text": [
      "                            OLS Regression Results                            \n",
      "==============================================================================\n",
      "Dep. Variable:                      y   R-squared:                       1.000\n",
      "Model:                            OLS   Adj. R-squared:                  1.000\n",
      "Method:                 Least Squares   F-statistic:                 8.072e+26\n",
      "Date:                Sun, 13 Dec 2020   Prob (F-statistic):           1.24e-27\n",
      "Time:                        15:56:55   Log-Likelihood:                 146.06\n",
      "No. Observations:                   5   AIC:                            -286.1\n",
      "Df Residuals:                       2   BIC:                            -287.3\n",
      "Df Model:                           2                                         \n",
      "Covariance Type:            nonrobust                                         \n",
      "==============================================================================\n",
      "                 coef    std err          t      P>|t|      [0.025      0.975]\n",
      "------------------------------------------------------------------------------\n",
      "Intercept     -0.5556   1.79e-13   -3.1e+12      0.000      -0.556      -0.556\n",
      "x1             1.8889    6.7e-13   2.82e+12      0.000       1.889       1.889\n",
      "x2            -0.8889   2.28e-13   -3.9e+12      0.000      -0.889      -0.889\n",
      "x1:x2      -8.882e-16    2.1e-14     -0.042      0.970   -9.14e-14    8.96e-14\n",
      "==============================================================================\n",
      "Omnibus:                          nan   Durbin-Watson:                   0.002\n",
      "Prob(Omnibus):                    nan   Jarque-Bera (JB):                0.747\n",
      "Skew:                           0.913   Prob(JB):                        0.688\n",
      "Kurtosis:                       2.500   Cond. No.                     6.86e+17\n",
      "==============================================================================\n",
      "\n",
      "Warnings:\n",
      "[1] Standard Errors assume that the covariance matrix of the errors is correctly specified.\n",
      "[2] The smallest eigenvalue is 1.31e-31. This might indicate that there are\n",
      "strong multicollinearity problems or that the design matrix is singular.\n"
     ]
    },
    {
     "name": "stderr",
     "output_type": "stream",
     "text": [
      "c:\\users\\victoria\\appdata\\local\\programs\\python\\python37\\lib\\site-packages\\statsmodels\\stats\\stattools.py:71: ValueWarning: omni_normtest is not valid with less than 8 observations; 5 samples were given.\n",
      "  \"samples were given.\" % int(n), ValueWarning)\n"
     ]
    }
   ],
   "source": [
    "y = np.array([1, 2, 3, 4, 5])\n",
    "x1 = np.array([6, 7, 8, 9, 10])\n",
    "x2 = np.array([11, 12, 13, 14, 15])\n",
    "X = np.vstack([np.ones(5), x1, x2, x1*x2]).T\n",
    "data = {\"y\": y, \"x1\": x1, \"x2\": x2}\n",
    "y, X = patsy.dmatrices(\"y ~ 1 + x1 + x2 + x1*x2\", data)\n",
    "model = sm.OLS(y, X)\n",
    "result = model.fit()\n",
    "print(result.summary())\n"
   ]
  },
  {
   "cell_type": "code",
   "execution_count": 11,
   "metadata": {},
   "outputs": [
    {
     "data": {
      "text/plain": [
       "array([-5.55555556e-01,  1.88888889e+00, -8.88888889e-01, -8.88178420e-16])"
      ]
     },
     "execution_count": 11,
     "metadata": {},
     "output_type": "execute_result"
    }
   ],
   "source": [
    "result.params"
   ]
  },
  {
   "cell_type": "code",
   "execution_count": 12,
   "metadata": {},
   "outputs": [
    {
     "name": "stdout",
     "output_type": "stream",
     "text": [
      "                            OLS Regression Results                            \n",
      "==============================================================================\n",
      "Dep. Variable:                      y   R-squared:                       1.000\n",
      "Model:                            OLS   Adj. R-squared:                  1.000\n",
      "Method:                 Least Squares   F-statistic:                 1.851e+32\n",
      "Date:                Sun, 13 Dec 2020   Prob (F-statistic):               0.00\n",
      "Time:                        16:43:13   Log-Likelihood:                 4826.4\n",
      "No. Observations:                 150   AIC:                            -9645.\n",
      "Df Residuals:                     146   BIC:                            -9633.\n",
      "Df Model:                           3                                         \n",
      "Covariance Type:            nonrobust                                         \n",
      "==============================================================================\n",
      "                 coef    std err          t      P>|t|      [0.025      0.975]\n",
      "------------------------------------------------------------------------------\n",
      "Intercept      1.0000   2.15e-16   4.65e+15      0.000       1.000       1.000\n",
      "x1             2.0000   2.09e-16   9.59e+15      0.000       2.000       2.000\n",
      "x2             3.0000   2.31e-16    1.3e+16      0.000       3.000       3.000\n",
      "x1:x2          4.0000    2.4e-16   1.67e+16      0.000       4.000       4.000\n",
      "==============================================================================\n",
      "Omnibus:                        4.496   Durbin-Watson:                   1.877\n",
      "Prob(Omnibus):                  0.106   Jarque-Bera (JB):                4.186\n",
      "Skew:                          -0.406   Prob(JB):                        0.123\n",
      "Kurtosis:                       3.105   Cond. No.                         1.25\n",
      "==============================================================================\n",
      "\n",
      "Warnings:\n",
      "[1] Standard Errors assume that the covariance matrix of the errors is correctly specified.\n"
     ]
    }
   ],
   "source": [
    "N = 150\n",
    "x1 = np.random.randn(N)\n",
    "x2 = np.random.randn(N)\n",
    "y = 1 + 2*x1 + 3*x2 + 4*x1*x2\n",
    "data = pd.DataFrame({\"y\":y, \"x1\": x1, \"x2\": x2})\n",
    "model = smf.ols(\"y ~ x1 + x2 + x1*x2\", data)\n",
    "result = model.fit()\n",
    "print(result.summary())"
   ]
  },
  {
   "cell_type": "code",
   "execution_count": 13,
   "metadata": {},
   "outputs": [
    {
     "data": {
      "text/plain": [
       "Intercept    1.0\n",
       "x1           2.0\n",
       "x2           3.0\n",
       "x1:x2        4.0\n",
       "dtype: float64"
      ]
     },
     "execution_count": 13,
     "metadata": {},
     "output_type": "execute_result"
    }
   ],
   "source": [
    "result.params"
   ]
  },
  {
   "cell_type": "code",
   "execution_count": null,
   "metadata": {},
   "outputs": [],
   "source": []
  }
 ],
 "metadata": {
  "kernelspec": {
   "display_name": "Python 3",
   "language": "python",
   "name": "python3"
  },
  "language_info": {
   "codemirror_mode": {
    "name": "ipython",
    "version": 3
   },
   "file_extension": ".py",
   "mimetype": "text/x-python",
   "name": "python",
   "nbconvert_exporter": "python",
   "pygments_lexer": "ipython3",
   "version": "3.7.3"
  }
 },
 "nbformat": 4,
 "nbformat_minor": 4
}
