{
 "cells": [
  {
   "cell_type": "code",
   "execution_count": 1,
   "metadata": {},
   "outputs": [
    {
     "name": "stdout",
     "output_type": "stream",
     "text": [
      "                            OLS Regression Results                            \n",
      "==============================================================================\n",
      "Dep. Variable:                      y   R-squared:                       1.000\n",
      "Model:                            OLS   Adj. R-squared:                  1.000\n",
      "Method:                 Least Squares   F-statistic:                 1.081e+32\n",
      "Date:                Mon, 21 Dec 2020   Prob (F-statistic):               0.00\n",
      "Time:                        17:52:10   Log-Likelihood:                 1629.5\n",
      "No. Observations:                  50   AIC:                            -3251.\n",
      "Df Residuals:                      46   BIC:                            -3243.\n",
      "Df Model:                           3                                         \n",
      "Covariance Type:            nonrobust                                         \n",
      "==============================================================================\n",
      "                 coef    std err          t      P>|t|      [0.025      0.975]\n",
      "------------------------------------------------------------------------------\n",
      "Intercept      1.0000   2.55e-16   3.92e+15      0.000       1.000       1.000\n",
      "x1             2.0000   2.71e-16   7.39e+15      0.000       2.000       2.000\n",
      "x2             3.0000   2.53e-16   1.18e+16      0.000       3.000       3.000\n",
      "x1:x2          4.0000   3.13e-16   1.28e+16      0.000       4.000       4.000\n",
      "==============================================================================\n",
      "Omnibus:                        0.657   Durbin-Watson:                   1.985\n",
      "Prob(Omnibus):                  0.720   Jarque-Bera (JB):                0.314\n",
      "Skew:                          -0.191   Prob(JB):                        0.855\n",
      "Kurtosis:                       3.069   Cond. No.                         1.61\n",
      "==============================================================================\n",
      "\n",
      "Warnings:\n",
      "[1] Standard Errors assume that the covariance matrix of the errors is correctly specified.\n"
     ]
    }
   ],
   "source": [
    "import statsmodels.api as sm\n",
    "import statsmodels.formula.api as smf\n",
    "import statsmodels.graphics.api as smg\n",
    "import patsy\n",
    "import matplotlib.pyplot as plt\n",
    "import numpy as np\n",
    "import pandas as pd\n",
    "from scipy import stats\n",
    "import seaborn as sns\n",
    "N = 50\n",
    "x1 = np.random.randn(N)\n",
    "x2 = np.random.randn(N)\n",
    "y = 1 + 2*x1 + 3*x2 + 4*x1*x2\n",
    "data = pd.DataFrame({\"y\":y, \"x1\": x1, \"x2\": x2})\n",
    "model = smf.ols(\"y ~ x1 + x2 + x1*x2\", data)\n",
    "result = model.fit()\n",
    "print(result.summary())"
   ]
  },
  {
   "cell_type": "code",
   "execution_count": 2,
   "metadata": {},
   "outputs": [
    {
     "name": "stdout",
     "output_type": "stream",
     "text": [
      "Intercept    1.0\n",
      "x1           2.0\n",
      "x2           3.0\n",
      "x1:x2        4.0\n",
      "dtype: float64\n"
     ]
    }
   ],
   "source": [
    "#estimated coefficients \n",
    "print(result.params)"
   ]
  },
  {
   "cell_type": "code",
   "execution_count": 3,
   "metadata": {},
   "outputs": [
    {
     "name": "stdout",
     "output_type": "stream",
     "text": [
      "1.0\n"
     ]
    }
   ],
   "source": [
    "print(result.rsquared)"
   ]
  },
  {
   "cell_type": "code",
   "execution_count": 4,
   "metadata": {},
   "outputs": [
    {
     "name": "stdout",
     "output_type": "stream",
     "text": [
      "1.080665564607038e+32\n"
     ]
    }
   ],
   "source": [
    "print(result.fvalue)"
   ]
  },
  {
   "cell_type": "code",
   "execution_count": 5,
   "metadata": {},
   "outputs": [
    {
     "name": "stdout",
     "output_type": "stream",
     "text": [
      "<bound method LikelihoodModelResults.f_test of <statsmodels.regression.linear_model.OLSResults object at 0x0000001C79F4EE48>>\n"
     ]
    }
   ],
   "source": [
    "print(result.f_test)"
   ]
  },
  {
   "cell_type": "code",
   "execution_count": 6,
   "metadata": {},
   "outputs": [
    {
     "name": "stdout",
     "output_type": "stream",
     "text": [
      "<F test: F=array([[1.08066556e+32]]), p=0.0, df_denom=46, df_num=3>\n"
     ]
    }
   ],
   "source": [
    "R = np.array([[0,1,0,0],[0,0,1,0],[0,0,0,1]])\n",
    "print(result.f_test(R))"
   ]
  },
  {
   "cell_type": "code",
   "execution_count": 7,
   "metadata": {},
   "outputs": [
    {
     "name": "stdout",
     "output_type": "stream",
     "text": [
      "0.31399039682149926 0.8547081627653589 -0.1910602193793663 3.068551883687856\n"
     ]
    }
   ],
   "source": [
    "JB, JBpv,skw,kurt = sm.stats.stattools.jarque_bera(result.resid)\n",
    "print(JB,JBpv,skw,kurt)"
   ]
  },
  {
   "cell_type": "code",
   "execution_count": null,
   "metadata": {},
   "outputs": [],
   "source": []
  },
  {
   "cell_type": "code",
   "execution_count": 8,
   "metadata": {},
   "outputs": [
    {
     "data": {
      "text/plain": [
       "0.0767422129300501"
      ]
     },
     "execution_count": 8,
     "metadata": {},
     "output_type": "execute_result"
    }
   ],
   "source": [
    "z, p = stats.normaltest(result.fittedvalues.values)\n",
    "p"
   ]
  },
  {
   "cell_type": "code",
   "execution_count": 9,
   "metadata": {},
   "outputs": [
    {
     "data": {
      "image/png": "[encoded data removed]",
      "text/plain": [
       "<Figure size 576x288 with 1 Axes>"
      ]
     },
     "execution_count": 9,
     "metadata": {},
     "output_type": "execute_result"
    },
    {
     "data": {
      "image/png": "[encoded data removed]",
      "text/plain": [
       "<Figure size 576x288 with 1 Axes>"
      ]
     },
     "metadata": {
      "needs_background": "light"
     },
     "output_type": "display_data"
    }
   ],
   "source": [
    "#qqpolot vs. normal distribution\n",
    "fig,ax = plt.subplots(figsize=(8, 4))\n",
    "smg.qqplot(result.resid, ax=ax)"
   ]
  },
  {
   "cell_type": "code",
   "execution_count": 13,
   "metadata": {},
   "outputs": [
    {
     "data": {
      "text/plain": [
       "array([0.0597956 , 0.02499369, 0.10190109, 0.07912901, 0.0513187 ])"
      ]
     },
     "execution_count": 13,
     "metadata": {},
     "output_type": "execute_result"
    }
   ],
   "source": [
    "infl = result.get_influence()\n",
    "#leverage\n",
    "a=infl.hat_matrix_diag\n",
    "a[:5]"
   ]
  },
  {
   "cell_type": "code",
   "execution_count": null,
   "metadata": {},
   "outputs": [],
   "source": []
  },
  {
   "cell_type": "code",
   "execution_count": 14,
   "metadata": {},
   "outputs": [
    {
     "data": {
      "text/plain": [
       "array([ 1.03452892, -0.07936702,  1.05850202,  0.        ,  0.25747414])"
      ]
     },
     "execution_count": 14,
     "metadata": {},
     "output_type": "execute_result"
    }
   ],
   "source": [
    "#internally studentized residuals\n",
    "b=infl.resid_studentized_internal\n",
    "b[:5]"
   ]
  },
  {
   "cell_type": "code",
   "execution_count": 15,
   "metadata": {},
   "outputs": [
    {
     "data": {
      "text/plain": [
       "array([ 0.60475255, -0.10862277,  0.52850599,  0.        ,  0.10104913])"
      ]
     },
     "execution_count": 15,
     "metadata": {},
     "output_type": "execute_result"
    }
   ],
   "source": [
    "#values provided by the property of the object\n",
    "c=infl.resid_studentized_external\n",
    "c[:5]"
   ]
  },
  {
   "cell_type": "code",
   "execution_count": 16,
   "metadata": {},
   "outputs": [
    {
     "data": {
      "image/png": "[encoded data removed]",
      "text/plain": [
       "<Figure size 432x288 with 1 Axes>"
      ]
     },
     "execution_count": 16,
     "metadata": {},
     "output_type": "execute_result"
    },
    {
     "data": {
      "image/png": "[encoded data removed]",
      "text/plain": [
       "<Figure size 432x288 with 1 Axes>"
      ]
     },
     "metadata": {
      "needs_background": "light"
     },
     "output_type": "display_data"
    }
   ],
   "source": [
    "#graphical representation of the influences()\n",
    "sm.graphics.influence_plot(result)"
   ]
  },
  {
   "cell_type": "code",
   "execution_count": 17,
   "metadata": {},
   "outputs": [
    {
     "data": {
      "text/html": [
       "<div>\n",
       "<style scoped>\n",
       "    .dataframe tbody tr th:only-of-type {\n",
       "        vertical-align: middle;\n",
       "    }\n",
       "\n",
       "    .dataframe tbody tr th {\n",
       "        vertical-align: top;\n",
       "    }\n",
       "\n",
       "    .dataframe thead th {\n",
       "        text-align: right;\n",
       "    }\n",
       "</style>\n",
       "<table border=\"1\" class=\"dataframe\">\n",
       "  <thead>\n",
       "    <tr style=\"text-align: right;\">\n",
       "      <th></th>\n",
       "      <th>hat_diag</th>\n",
       "      <th>student_resid</th>\n",
       "      <th>dffits</th>\n",
       "      <th>cooks_d</th>\n",
       "    </tr>\n",
       "  </thead>\n",
       "  <tbody>\n",
       "    <tr>\n",
       "      <th>0</th>\n",
       "      <td>0.059796</td>\n",
       "      <td>0.604753</td>\n",
       "      <td>0.152511</td>\n",
       "      <td>0.017017</td>\n",
       "    </tr>\n",
       "    <tr>\n",
       "      <th>1</th>\n",
       "      <td>0.024994</td>\n",
       "      <td>-0.108623</td>\n",
       "      <td>-0.017391</td>\n",
       "      <td>0.000040</td>\n",
       "    </tr>\n",
       "    <tr>\n",
       "      <th>2</th>\n",
       "      <td>0.101901</td>\n",
       "      <td>0.528506</td>\n",
       "      <td>0.178023</td>\n",
       "      <td>0.031782</td>\n",
       "    </tr>\n",
       "    <tr>\n",
       "      <th>3</th>\n",
       "      <td>0.079129</td>\n",
       "      <td>0.000000</td>\n",
       "      <td>0.000000</td>\n",
       "      <td>0.000000</td>\n",
       "    </tr>\n",
       "    <tr>\n",
       "      <th>4</th>\n",
       "      <td>0.051319</td>\n",
       "      <td>0.101049</td>\n",
       "      <td>0.023502</td>\n",
       "      <td>0.000897</td>\n",
       "    </tr>\n",
       "  </tbody>\n",
       "</table>\n",
       "</div>"
      ],
      "text/plain": [
       "   hat_diag  student_resid    dffits   cooks_d\n",
       "0  0.059796       0.604753  0.152511  0.017017\n",
       "1  0.024994      -0.108623 -0.017391  0.000040\n",
       "2  0.101901       0.528506  0.178023  0.031782\n",
       "3  0.079129       0.000000  0.000000  0.000000\n",
       "4  0.051319       0.101049  0.023502  0.000897"
      ]
     },
     "execution_count": 17,
     "metadata": {},
     "output_type": "execute_result"
    }
   ],
   "source": [
    "#Other criteria for detecting influential points\n",
    "f=infl.summary_frame().filter([\"hat_diag\",\"student_resid\",\"dffits\",\"cooks_d\"])\n",
    "f.head(5)"
   ]
  },
  {
   "cell_type": "code",
   "execution_count": 18,
   "metadata": {},
   "outputs": [
    {
     "data": {
      "text/plain": [
       "0      1.00\n",
       "1      1.50\n",
       "2      2.00\n",
       "3      2.50\n",
       "4      3.00\n",
       "5      1.75\n",
       "6      2.50\n",
       "7      3.25\n",
       "8      4.00\n",
       "9      4.75\n",
       "10     2.50\n",
       "11     3.50\n",
       "12     4.50\n",
       "13     5.50\n",
       "14     6.50\n",
       "15     3.25\n",
       "16     4.50\n",
       "17     5.75\n",
       "18     7.00\n",
       "19     8.25\n",
       "20     4.00\n",
       "21     5.50\n",
       "22     7.00\n",
       "23     8.50\n",
       "24    10.00\n",
       "dtype: float64"
      ]
     },
     "execution_count": 18,
     "metadata": {},
     "output_type": "execute_result"
    }
   ],
   "source": [
    "x = np.linspace(0, 1,5 )\n",
    "X1, X2 = np.meshgrid(x, x)\n",
    "data2 = pd.DataFrame({\"x1\": X1.ravel(), \"x2\": X2.ravel()})\n",
    "y_pred = result.predict(data2)\n",
    "y_pred"
   ]
  },
  {
   "cell_type": "code",
   "execution_count": 19,
   "metadata": {},
   "outputs": [
    {
     "data": {
      "text/html": [
       "<div>\n",
       "<style scoped>\n",
       "    .dataframe tbody tr th:only-of-type {\n",
       "        vertical-align: middle;\n",
       "    }\n",
       "\n",
       "    .dataframe tbody tr th {\n",
       "        vertical-align: top;\n",
       "    }\n",
       "\n",
       "    .dataframe thead th {\n",
       "        text-align: right;\n",
       "    }\n",
       "</style>\n",
       "<table border=\"1\" class=\"dataframe\">\n",
       "  <thead>\n",
       "    <tr style=\"text-align: right;\">\n",
       "      <th></th>\n",
       "      <th>x1</th>\n",
       "      <th>x2</th>\n",
       "      <th>y</th>\n",
       "    </tr>\n",
       "  </thead>\n",
       "  <tbody>\n",
       "    <tr>\n",
       "      <th>0</th>\n",
       "      <td>0.00</td>\n",
       "      <td>0.0</td>\n",
       "      <td>1.0</td>\n",
       "    </tr>\n",
       "    <tr>\n",
       "      <th>1</th>\n",
       "      <td>0.25</td>\n",
       "      <td>0.0</td>\n",
       "      <td>1.5</td>\n",
       "    </tr>\n",
       "    <tr>\n",
       "      <th>2</th>\n",
       "      <td>0.50</td>\n",
       "      <td>0.0</td>\n",
       "      <td>2.0</td>\n",
       "    </tr>\n",
       "    <tr>\n",
       "      <th>3</th>\n",
       "      <td>0.75</td>\n",
       "      <td>0.0</td>\n",
       "      <td>2.5</td>\n",
       "    </tr>\n",
       "    <tr>\n",
       "      <th>4</th>\n",
       "      <td>1.00</td>\n",
       "      <td>0.0</td>\n",
       "      <td>3.0</td>\n",
       "    </tr>\n",
       "  </tbody>\n",
       "</table>\n",
       "</div>"
      ],
      "text/plain": [
       "     x1   x2    y\n",
       "0  0.00  0.0  1.0\n",
       "1  0.25  0.0  1.5\n",
       "2  0.50  0.0  2.0\n",
       "3  0.75  0.0  2.5\n",
       "4  1.00  0.0  3.0"
      ]
     },
     "execution_count": 19,
     "metadata": {},
     "output_type": "execute_result"
    }
   ],
   "source": [
    "\n",
    "x1=data2['x1']\n",
    "x2=data2['x2']\n",
    "y=1 + 2*x1 + 3*x2 + 4*x1*x2\n",
    "data2['y']= 1 + 2*x1 + 3*x2 + 4*x1*x2\n",
    "data2.head(5)"
   ]
  },
  {
   "cell_type": "code",
   "execution_count": 20,
   "metadata": {},
   "outputs": [
    {
     "data": {
      "text/html": [
       "<div>\n",
       "<style scoped>\n",
       "    .dataframe tbody tr th:only-of-type {\n",
       "        vertical-align: middle;\n",
       "    }\n",
       "\n",
       "    .dataframe tbody tr th {\n",
       "        vertical-align: top;\n",
       "    }\n",
       "\n",
       "    .dataframe thead th {\n",
       "        text-align: right;\n",
       "    }\n",
       "</style>\n",
       "<table border=\"1\" class=\"dataframe\">\n",
       "  <thead>\n",
       "    <tr style=\"text-align: right;\">\n",
       "      <th></th>\n",
       "      <th>const</th>\n",
       "      <th>x1</th>\n",
       "      <th>x2</th>\n",
       "      <th>y</th>\n",
       "    </tr>\n",
       "  </thead>\n",
       "  <tbody>\n",
       "    <tr>\n",
       "      <th>0</th>\n",
       "      <td>1.0</td>\n",
       "      <td>0.00</td>\n",
       "      <td>0.0</td>\n",
       "      <td>1.0</td>\n",
       "    </tr>\n",
       "    <tr>\n",
       "      <th>1</th>\n",
       "      <td>1.0</td>\n",
       "      <td>0.25</td>\n",
       "      <td>0.0</td>\n",
       "      <td>1.5</td>\n",
       "    </tr>\n",
       "    <tr>\n",
       "      <th>2</th>\n",
       "      <td>1.0</td>\n",
       "      <td>0.50</td>\n",
       "      <td>0.0</td>\n",
       "      <td>2.0</td>\n",
       "    </tr>\n",
       "    <tr>\n",
       "      <th>3</th>\n",
       "      <td>1.0</td>\n",
       "      <td>0.75</td>\n",
       "      <td>0.0</td>\n",
       "      <td>2.5</td>\n",
       "    </tr>\n",
       "    <tr>\n",
       "      <th>4</th>\n",
       "      <td>1.0</td>\n",
       "      <td>1.00</td>\n",
       "      <td>0.0</td>\n",
       "      <td>3.0</td>\n",
       "    </tr>\n",
       "  </tbody>\n",
       "</table>\n",
       "</div>"
      ],
      "text/plain": [
       "   const    x1   x2    y\n",
       "0    1.0  0.00  0.0  1.0\n",
       "1    1.0  0.25  0.0  1.5\n",
       "2    1.0  0.50  0.0  2.0\n",
       "3    1.0  0.75  0.0  2.5\n",
       "4    1.0  1.00  0.0  3.0"
      ]
     },
     "execution_count": 20,
     "metadata": {},
     "output_type": "execute_result"
    }
   ],
   "source": [
    "import statsmodels.api as sm\n",
    "data2_exog = sm.add_constant(data2)\n",
    "data2_exog.head(5)"
   ]
  },
  {
   "cell_type": "code",
   "execution_count": 21,
   "metadata": {},
   "outputs": [
    {
     "name": "stdout",
     "output_type": "stream",
     "text": [
      "[ 5.    7.5  10.   12.5  15.    8.75 12.25 15.75 19.25 22.75 12.5  17.\n",
      " 21.5  26.   30.5  16.25 21.75 27.25 32.75 38.25 20.   26.5  33.   39.5\n",
      " 46.  ]\n"
     ]
    }
   ],
   "source": [
    "\n",
    "model = smf.ols(\"y ~ x1 + x2 + x1*x2\", data)\n",
    "result = model.fit()\n",
    "pred_y = model.predict(result.params,data2_exog)\n",
    "print(pred_y)"
   ]
  },
  {
   "cell_type": "code",
   "execution_count": 22,
   "metadata": {},
   "outputs": [
    {
     "data": {
      "image/png": "[encoded data removed]",
      "text/plain": [
       "<Figure size 432x288 with 1 Axes>"
      ]
     },
     "metadata": {
      "needs_background": "light"
     },
     "output_type": "display_data"
    }
   ],
   "source": [
    "plt.scatter(data2['y'],pred_y)\n",
    "plt.plot(np.arange(-5,50),np.arange(-5,50))\n",
    "plt.xlabel('observed values')\n",
    "plt.ylabel('pridicted values')\n",
    "plt.xlim(0,50)\n",
    "plt.ylim(0,50)\n",
    "plt.show()"
   ]
  },
  {
   "cell_type": "code",
   "execution_count": 21,
   "metadata": {},
   "outputs": [
    {
     "data": {
      "text/plain": [
       "(25,)"
      ]
     },
     "execution_count": 21,
     "metadata": {},
     "output_type": "execute_result"
    }
   ],
   "source": [
    "pred_y.shape"
   ]
  },
  {
   "cell_type": "code",
   "execution_count": 22,
   "metadata": {},
   "outputs": [
    {
     "data": {
      "text/plain": [
       "(50,)"
      ]
     },
     "execution_count": 22,
     "metadata": {},
     "output_type": "execute_result"
    }
   ],
   "source": [
    "y.shape"
   ]
  },
  {
   "cell_type": "code",
   "execution_count": 23,
   "metadata": {},
   "outputs": [
    {
     "data": {
      "text/plain": [
       "array([[ -2.78182789,  -0.53634449,  -1.2886035 ,  12.24670999,\n",
       "          0.34407484,   4.8101072 ,   1.84991147,   2.45803627,\n",
       "         -1.06361712,  -4.97565186,   3.47952634,   0.68960555,\n",
       "          2.2616849 ,   4.66367588,   5.89106976,  -6.87343426,\n",
       "         -1.22364258,  -0.93416614,  -1.14265336,   7.73471179,\n",
       "          2.40490628,   7.8070877 ,  -3.76216705,   0.54776321,\n",
       "          3.58487764],\n",
       "       [ -0.71031698,  10.04807395,   4.56310764, -10.54568127,\n",
       "         12.35904739,  -3.90737703,  -2.30719065,   1.44865398,\n",
       "         14.99107613,  -0.86664529,   9.41047202,   2.66722069,\n",
       "          1.37236285,  -0.2889984 ,   5.87638891,   4.21293069,\n",
       "         -0.7159598 ,   4.79525555,   2.00975588,  -2.31014383,\n",
       "         18.13670017,  -0.30379791,   1.20692592,  -0.77972789,\n",
       "         -2.58192203]])"
      ]
     },
     "execution_count": 23,
     "metadata": {},
     "output_type": "execute_result"
    }
   ],
   "source": [
    "y.reshape(2,25)"
   ]
  },
  {
   "cell_type": "code",
   "execution_count": 28,
   "metadata": {},
   "outputs": [
    {
     "ename": "SyntaxError",
     "evalue": "invalid syntax (<ipython-input-28-b666c46766c6>, line 3)",
     "output_type": "error",
     "traceback": [
      "\u001b[1;36m  File \u001b[1;32m\"<ipython-input-28-b666c46766c6>\"\u001b[1;36m, line \u001b[1;32m3\u001b[0m\n\u001b[1;33m    c = ax.contourf( x1,x2 Y, 15, cmap=plt.cm.RdBu)\u001b[0m\n\u001b[1;37m                           ^\u001b[0m\n\u001b[1;31mSyntaxError\u001b[0m\u001b[1;31m:\u001b[0m invalid syntax\n"
     ]
    }
   ],
   "source": [
    "fig, axes = plt.subplots(1, 2, figsize=(12, 5), sharey=True)\n",
    "def plot_y_contour(ax, Y, title):\n",
    "    c = ax.contourf( x1,x2 Y, 15, cmap=plt.cm.RdBu)\n",
    "    ax.set_xlabel(r\"$x_1$\", fontsize=20)\n",
    "    ax.set_ylabel(r\"$x_2$\", fontsize=20)\n",
    "    ax.set_title(title)\n",
    "    cb = fig.colorbar(c, ax=ax)\n",
    "    cb.set_label(r\"$y$\", fontsize=20)\n",
    "plot_y_contour(axes[0], y, \"true relation\")\n",
    "plot_y_contour(axes[1], pred_y, \"fitted model\")"
   ]
  },
  {
   "cell_type": "code",
   "execution_count": null,
   "metadata": {},
   "outputs": [],
   "source": []
  }
 ],
 "metadata": {
  "kernelspec": {
   "display_name": "Python 3",
   "language": "python",
   "name": "python3"
  },
  "language_info": {
   "codemirror_mode": {
    "name": "ipython",
    "version": 3
   },
   "file_extension": ".py",
   "mimetype": "text/x-python",
   "name": "python",
   "nbconvert_exporter": "python",
   "pygments_lexer": "ipython3",
   "version": "3.7.3"
  }
 },
 "nbformat": 4,
 "nbformat_minor": 4
}
